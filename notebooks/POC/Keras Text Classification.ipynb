{
 "cells": [
  {
   "cell_type": "code",
   "execution_count": 1,
   "metadata": {},
   "outputs": [],
   "source": [
    "import numpy as np\n",
    "import pandas as pd\n",
    "from matplotlib import pyplot as plt\n",
    "import tensorflow as tf\n",
    "from tensorflow.keras.preprocessing.text import Tokenizer\n",
    "from tensorflow.keras.preprocessing.sequence import pad_sequences\n",
    "\n",
    "from tensorflow.keras.layers import Input, Embedding, Activation, Flatten, Dense\n",
    "from tensorflow.keras.layers import Conv1D, MaxPooling1D, Dropout\n",
    "from tensorflow.keras.models import Model\n",
    "from tensorflow.keras.utils import to_categorical\n",
    "import os\n",
    "from string2image.generate import Generator\n",
    "from faker import Faker\n",
    "os.environ['TF_FORCE_GPU_ALLOW_GROWTH'] = 'true'"
   ]
  },
  {
   "cell_type": "markdown",
   "metadata": {},
   "source": [
    "### We're going to implement text classification using Keras\n",
    "I'm using [this](https://towardsdatascience.com/how-to-preprocess-character-level-text-with-keras-349065121089) blog post as a guide to prove out this concept.\n",
    "### First let's generate our categorized data, similar to the other notebooks in this repository"
   ]
  },
  {
   "cell_type": "code",
   "execution_count": 2,
   "metadata": {},
   "outputs": [
    {
     "name": "stdout",
     "output_type": "stream",
     "text": [
      "954 test records\n",
      "[Data(value='+1-254-465-8511', label=1), Data(value='265-957-8613x8359', label=1), Data(value='Marsh', label=0), Data(value='brian19@hotmail.com', label=5)]\n"
     ]
    }
   ],
   "source": [
    "fake = Faker()\n",
    "data_sources = [\n",
    "    fake.last_name,\n",
    "    fake.phone_number,\n",
    "    fake.company,\n",
    "    fake.address,\n",
    "    fake.ssn,\n",
    "    fake.ascii_email\n",
    "]\n",
    "g = Generator(data_sources)\n",
    "\n",
    "size = 1000\n",
    "# When including the reverse we double our samples, the reverse is needed because we want to account for left-right and right-left subtractions\n",
    "train_raw = list(g.random_data_gen(size))\n",
    "test_raw = list(g.random_data_gen(size))\n",
    "# Sloppy way of ensuring out test data does not appear in our train data\n",
    "test_raw = [d for d in test_raw if d not in train_raw]\n",
    "\n",
    "# Count how many testing samples are left.\n",
    "print(len(test_raw), \"test records\")\n",
    "print(test_raw[:4])"
   ]
  },
  {
   "cell_type": "markdown",
   "metadata": {},
   "source": [
    "### Using Keras we can tokenize our text into characters and convert to numeric index values"
   ]
  },
  {
   "cell_type": "code",
   "execution_count": 3,
   "metadata": {},
   "outputs": [
    {
     "data": {
      "text/plain": [
       "[[45, 13, 10, 22, 15, 21, 10, 21, 18, 15, 10, 16, 15, 13, 13],\n",
       " [22, 18, 15, 10, 20, 15, 17, 10, 16, 18, 13, 19, 38, 16, 19, 15, 20]]"
      ]
     },
     "execution_count": 3,
     "metadata": {},
     "output_type": "execute_result"
    }
   ],
   "source": [
    "# Keep text only separate for word embeddings\n",
    "train_texts = [t for t, _ in train_raw]\n",
    "test_texts = [t for t, _ in test_raw]\n",
    "\n",
    "tk = Tokenizer(num_words=None, char_level=True, oov_token='UNK')\n",
    "tk.fit_on_texts(train_texts)\n",
    "\n",
    "train_sequences = tk.texts_to_sequences(train_texts)\n",
    "test_sequences = tk.texts_to_sequences(test_texts)\n",
    "test_sequences[:2]"
   ]
  },
  {
   "cell_type": "markdown",
   "metadata": {},
   "source": [
    "### One hot encode our labels, labels correspond to the function names defined above in the list `data_sources`"
   ]
  },
  {
   "cell_type": "code",
   "execution_count": 4,
   "metadata": {},
   "outputs": [
    {
     "data": {
      "text/plain": [
       "array([[0., 1., 0., 0., 0., 0.],\n",
       "       [0., 1., 0., 0., 0., 0.]], dtype=float32)"
      ]
     },
     "execution_count": 4,
     "metadata": {},
     "output_type": "execute_result"
    }
   ],
   "source": [
    "train_class_list = [x for _, x in train_raw]\n",
    "test_class_list  = [x for _, x in test_raw]\n",
    "\n",
    "train_classes = to_categorical(train_class_list)\n",
    "test_classes = to_categorical(test_class_list)\n",
    "test_classes[:2]"
   ]
  },
  {
   "cell_type": "markdown",
   "metadata": {},
   "source": [
    "### We're going to pad to make our strings consistent in length, truncating anything over length 64"
   ]
  },
  {
   "cell_type": "code",
   "execution_count": 5,
   "metadata": {},
   "outputs": [
    {
     "data": {
      "text/plain": [
       "array([[45., 13., 10., 22., 15., 21., 10., 21., 18., 15., 10., 16., 15.,\n",
       "        13., 13.,  0.,  0.,  0.,  0.,  0.,  0.,  0.,  0.,  0.,  0.,  0.,\n",
       "         0.,  0.,  0.,  0.,  0.,  0.],\n",
       "       [22., 18., 15., 10., 20., 15., 17., 10., 16., 18., 13., 19., 38.,\n",
       "        16., 19., 15., 20.,  0.,  0.,  0.,  0.,  0.,  0.,  0.,  0.,  0.,\n",
       "         0.,  0.,  0.,  0.,  0.,  0.]], dtype=float32)"
      ]
     },
     "execution_count": 5,
     "metadata": {},
     "output_type": "execute_result"
    }
   ],
   "source": [
    "input_size = 32\n",
    "\n",
    "train_data = pad_sequences(train_sequences, maxlen=input_size, padding='post')\n",
    "test_data = pad_sequences(test_sequences, maxlen=input_size, padding='post')\n",
    "\n",
    "train_data = np.array(train_data, dtype='float32')\n",
    "test_data = np.array(test_data, dtype='float32')\n",
    "\n",
    "test_data[:2]"
   ]
  },
  {
   "cell_type": "markdown",
   "metadata": {},
   "source": [
    "### Now we can define our model"
   ]
  },
  {
   "cell_type": "code",
   "execution_count": 6,
   "metadata": {},
   "outputs": [
    {
     "name": "stdout",
     "output_type": "stream",
     "text": [
      "Model: \"model\"\n",
      "_________________________________________________________________\n",
      "Layer (type)                 Output Shape              Param #   \n",
      "=================================================================\n",
      "input (InputLayer)           [(None, 32)]              0         \n",
      "_________________________________________________________________\n",
      "embedding (Embedding)        (None, 32, 46)            2162      \n",
      "_________________________________________________________________\n",
      "conv1d (Conv1D)              (None, 30, 64)            8896      \n",
      "_________________________________________________________________\n",
      "max_pooling1d (MaxPooling1D) (None, 10, 64)            0         \n",
      "_________________________________________________________________\n",
      "conv1d_1 (Conv1D)            (None, 8, 64)             12352     \n",
      "_________________________________________________________________\n",
      "max_pooling1d_1 (MaxPooling1 (None, 2, 64)             0         \n",
      "_________________________________________________________________\n",
      "flatten (Flatten)            (None, 128)               0         \n",
      "_________________________________________________________________\n",
      "dense (Dense)                (None, 256)               33024     \n",
      "_________________________________________________________________\n",
      "dense_1 (Dense)              (None, 6)                 1542      \n",
      "=================================================================\n",
      "Total params: 57,976\n",
      "Trainable params: 57,976\n",
      "Non-trainable params: 0\n",
      "_________________________________________________________________\n"
     ]
    }
   ],
   "source": [
    "vocab_size = len(tk.word_index)\n",
    "\n",
    "embedding_layer = Embedding(vocab_size + 1,\n",
    "                            vocab_size,\n",
    "                            input_length=input_size)\n",
    "num_classes = len(g.labels)\n",
    "inputs = Input(shape=(input_size, ), name='input', dtype='int64')\n",
    "x = embedding_layer(inputs)\n",
    "x = Conv1D(64, 3, activation='relu')(x)\n",
    "x = MaxPooling1D(pool_size=3)(x)\n",
    "\n",
    "x = Conv1D(64, 3, activation='relu')(x)\n",
    "x = MaxPooling1D(pool_size=3)(x)\n",
    "\n",
    "x = Flatten()(x)\n",
    "\n",
    "x = Dense(units=256, activation='relu')(x)\n",
    "predictions = Dense(num_classes, activation='softmax')(x)\n",
    "model = Model(inputs=inputs, outputs=predictions)\n",
    "model.compile(optimizer='adam', loss='categorical_crossentropy', metrics=['accuracy'])\n",
    "model.summary()"
   ]
  },
  {
   "cell_type": "markdown",
   "metadata": {},
   "source": [
    "### This technique performs suprisingly well at classifying data, if we were to throw in some similar looking data (e.g. first and last names we would have a harder time)"
   ]
  },
  {
   "cell_type": "code",
   "execution_count": 7,
   "metadata": {},
   "outputs": [
    {
     "name": "stdout",
     "output_type": "stream",
     "text": [
      "Epoch 1/10\n",
      "32/32 - 0s - loss: 1.5325 - accuracy: 0.4130 - val_loss: 0.9220 - val_accuracy: 0.7296\n",
      "Epoch 2/10\n",
      "32/32 - 0s - loss: 0.4331 - accuracy: 0.8870 - val_loss: 0.1750 - val_accuracy: 0.9717\n",
      "Epoch 3/10\n",
      "32/32 - 0s - loss: 0.0976 - accuracy: 0.9790 - val_loss: 0.1067 - val_accuracy: 0.9801\n",
      "Epoch 4/10\n",
      "32/32 - 0s - loss: 0.0569 - accuracy: 0.9850 - val_loss: 0.0858 - val_accuracy: 0.9832\n",
      "Epoch 5/10\n",
      "32/32 - 0s - loss: 0.0438 - accuracy: 0.9880 - val_loss: 0.0375 - val_accuracy: 0.9843\n",
      "Epoch 6/10\n",
      "32/32 - 0s - loss: 0.0182 - accuracy: 0.9930 - val_loss: 0.0159 - val_accuracy: 0.9979\n",
      "Epoch 7/10\n",
      "32/32 - 0s - loss: 0.0066 - accuracy: 0.9990 - val_loss: 0.0131 - val_accuracy: 0.9969\n",
      "Epoch 8/10\n",
      "32/32 - 0s - loss: 0.0030 - accuracy: 1.0000 - val_loss: 0.0108 - val_accuracy: 0.9969\n",
      "Epoch 9/10\n",
      "32/32 - 0s - loss: 0.0018 - accuracy: 1.0000 - val_loss: 0.0083 - val_accuracy: 0.9979\n",
      "Epoch 10/10\n",
      "32/32 - 0s - loss: 0.0012 - accuracy: 1.0000 - val_loss: 0.0080 - val_accuracy: 0.9979\n",
      "30/30 [==============================] - 0s 2ms/step - loss: 0.0080 - accuracy: 0.9979\n",
      "Loss:  0.00802595168352127\n",
      "Accuracy:  0.99790358543396\n"
     ]
    }
   ],
   "source": [
    "history = model.fit(train_data, train_classes,\n",
    "          validation_data=(test_data, test_classes),\n",
    "#           batch_size=128,\n",
    "          epochs=10,\n",
    "          verbose=2)\n",
    "\n",
    "loss, accuracy = model.evaluate(test_data, test_classes)\n",
    "\n",
    "print(\"Loss: \", loss)\n",
    "print(\"Accuracy: \", accuracy)"
   ]
  },
  {
   "cell_type": "markdown",
   "metadata": {},
   "source": [
    "### Let's take a look at some of the data flowing through the network\n",
    "\n",
    "### First is the embedding layer and then the 1st convolution"
   ]
  },
  {
   "cell_type": "code",
   "execution_count": 8,
   "metadata": {},
   "outputs": [
    {
     "data": {
      "text/plain": [
       "<matplotlib.image.AxesImage at 0x26027314e08>"
      ]
     },
     "execution_count": 8,
     "metadata": {},
     "output_type": "execute_result"
    },
    {
     "data": {
      "image/png": "[encoded data removed]",
      "text/plain": [
       "<Figure size 414x288 with 1 Axes>"
      ]
     },
     "metadata": {
      "needs_background": "light"
     },
     "output_type": "display_data"
    },
    {
     "data": {
      "image/png": "[encoded data removed]",
      "text/plain": [
       "<Figure size 614.4x288 with 1 Axes>"
      ]
     },
     "metadata": {
      "needs_background": "light"
     },
     "output_type": "display_data"
    }
   ],
   "source": [
    "layer_outputs = [layer.output for layer in model.layers[:12]]\n",
    "activation_model = Model(inputs=model.input, outputs=layer_outputs)\n",
    "activations = activation_model.predict(test_data[:5]) \n",
    "\n",
    "embedding_activation = activations[1]\n",
    "conv1d_activation = activations[2]\n",
    "\n",
    "plt.matshow(embedding_activation[2, :, :], cmap='viridis')\n",
    "plt.matshow(conv1d_activation[2, :, :], cmap='viridis')"
   ]
  },
  {
   "cell_type": "markdown",
   "metadata": {},
   "source": []
  },
  {
   "cell_type": "code",
   "execution_count": null,
   "metadata": {},
   "outputs": [],
   "source": []
  }
 ],
 "metadata": {
  "kernelspec": {
   "display_name": "Python 3",
   "language": "python",
   "name": "python3"
  },
  "language_info": {
   "codemirror_mode": {
    "name": "ipython",
    "version": 3
   },
   "file_extension": ".py",
   "mimetype": "text/x-python",
   "name": "python",
   "nbconvert_exporter": "python",
   "pygments_lexer": "ipython3",
   "version": "3.7.5"
  }
 },
 "nbformat": 4,
 "nbformat_minor": 4
}
