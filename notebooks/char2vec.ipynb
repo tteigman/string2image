{
 "cells": [
  {
   "cell_type": "code",
   "execution_count": 1,
   "metadata": {},
   "outputs": [],
   "source": [
    "from contextlib import suppress\n",
    "\n",
    "import matplotlib.pyplot as plt\n",
    "import pandas as pd\n",
    "from faker import Faker\n",
    "from gensim.models import Word2Vec\n",
    "from sklearn.manifold import TSNE\n",
    "from tqdm import tqdm\n",
    "\n",
    "from string2image.generate import Generator"
   ]
  },
  {
   "cell_type": "markdown",
   "metadata": {},
   "source": [
    "## Encoding characters as vectors\n",
    "Some people will be familiar with the concept of encoding words as vectors using the Word2Vec algorithm.\n",
    "Let's extend this concept to encode characters.\n",
    "\n",
    "## Let's get some data to work with\n",
    "Since the point of this technique is to do string comparisons that are domain specific, let's generate some data in the domain of personal information using the faker library."
   ]
  },
  {
   "cell_type": "code",
   "execution_count": 2,
   "metadata": {},
   "outputs": [],
   "source": [
    "fake = Faker()\n",
    "data_sources = [\n",
    "    fake.first_name,\n",
    "    fake.last_name,\n",
    "    fake.phone_number,\n",
    "    fake.company,\n",
    "    fake.street_address,\n",
    "    fake.city,\n",
    "    fake.postcode,\n",
    "    fake.job,\n",
    "    fake.ascii_email,\n",
    "    fake.ssn,\n",
    "]"
   ]
  },
  {
   "cell_type": "markdown",
   "metadata": {},
   "source": [
    "### Next we will use a helper class to generate our data\n",
    "The code below demonstrates the generator where we get the data to feed into our model"
   ]
  },
  {
   "cell_type": "code",
   "execution_count": 3,
   "metadata": {},
   "outputs": [
    {
     "name": "stdout",
     "output_type": "stream",
     "text": [
      "Data(label='postcode', value='43478')\n",
      "Data(label='first_name', value='Erin')\n",
      "Data(label='first_name', value='Katherine')\n",
      "Data(label='last_name', value='Salazar')\n",
      "Data(label='street_address', value='456 Gomez Place Suite 632')\n"
     ]
    }
   ],
   "source": [
    "g = Generator(data_sources)\n",
    "samples = g.random_data_gen(cnt=5)\n",
    "for d in samples:\n",
    "    print(d)"
   ]
  },
  {
   "cell_type": "markdown",
   "metadata": {},
   "source": [
    "#### Now we need to split the generated strings into characters and feed them into the model\n",
    "Below are functions to train the model and visualize the embeddings (with reduced dimensions using the TSNE algorithm)"
   ]
  },
  {
   "cell_type": "code",
   "execution_count": 4,
   "metadata": {},
   "outputs": [],
   "source": [
    "def create_model(batches=5):\n",
    "    \"\"\"\n",
    "    code found here https://stackoverflow.com/questions/43776572/visualise-word2vec-generated-from-gensim\n",
    "    \"\"\"\n",
    "    train_words = g.random_data_gen(100_000)\n",
    "    train_characters = map(lambda x: list(x.value), train_words)\n",
    "    model = Word2Vec(train_characters, size=100, window=5, min_count=1,workers=4)\n",
    "\n",
    "    for _ in tqdm(range(batches)):\n",
    "        vocab_data = map(lambda x: list(x.value), g.random_data_gen(100_000))\n",
    "        model.train(vocab_data, total_examples=1, epochs=1)\n",
    "        \n",
    "    return model\n",
    "\n",
    "def plot_w2v(model):\n",
    "    vocab = list(model.wv.vocab)\n",
    "    X = model.wv[vocab]\n",
    "\n",
    "    tsne = TSNE(n_components=2)\n",
    "    X_tsne = tsne.fit_transform(X)\n",
    "\n",
    "    df = pd.DataFrame(X_tsne, index=vocab, columns=['x', 'y'])\n",
    "\n",
    "    fig = plt.figure(figsize=(10,10))\n",
    "    ax = fig.add_subplot(1, 1, 1)\n",
    "\n",
    "    ax.scatter(df['x'], df['y'])\n",
    "    for word, pos in df.iterrows():\n",
    "        ax.annotate(word, pos)"
   ]
  },
  {
   "cell_type": "markdown",
   "metadata": {},
   "source": [
    "### A couple of explainable observations\n",
    "- Numeric characters get seperated from the others, along with symbols that go along with them ('-' for social)\n",
    "- The 'x' is interesting since it goes with the numeric because it is associated with phone extensions\n",
    "- Upper and lower case characters get differentiated\n",
    "- The common vowels are clustered together\n",
    "\n",
    "In general we can see how the subtle difference between character patterns is displayed"
   ]
  },
  {
   "cell_type": "code",
   "execution_count": 5,
   "metadata": {},
   "outputs": [
    {
     "name": "stderr",
     "output_type": "stream",
     "text": [
      "100%|████████████████████████████████████████████████████████████████████████████████████| 2/2 [00:17<00:00,  8.73s/it]\n"
     ]
    },
    {
     "data": {
      "image/png": "[encoded data removed]",
      "text/plain": [
       "<Figure size 720x720 with 1 Axes>"
      ]
     },
     "metadata": {
      "needs_background": "light"
     },
     "output_type": "display_data"
    }
   ],
   "source": [
    "model = create_model(2)\n",
    "plot_w2v(model)"
   ]
  },
  {
   "cell_type": "markdown",
   "metadata": {},
   "source": [
    "### Training against more data\n",
    "The differences generally get more pronounced when we have more data. It's worth noting that the TSNE function does not yield the same results eveytime."
   ]
  },
  {
   "cell_type": "code",
   "execution_count": null,
   "metadata": {},
   "outputs": [
    {
     "name": "stderr",
     "output_type": "stream",
     "text": [
      " 90%|██████████████████████████████████████████████████████████████████████████▋        | 9/10 [01:19<00:08,  8.81s/it]"
     ]
    }
   ],
   "source": [
    "model = create_model(10)\n",
    "plot_w2v(model)"
   ]
  },
  {
   "cell_type": "markdown",
   "metadata": {},
   "source": [
    "#### We'll save the model for our next step, mapping each character in a string to its respective vector forming a image of sorts which can be used for a variety of computations."
   ]
  },
  {
   "cell_type": "code",
   "execution_count": null,
   "metadata": {},
   "outputs": [],
   "source": [
    "model.save(\"word2vec.model\")"
   ]
  }
 ],
 "metadata": {
  "kernelspec": {
   "display_name": "Python 3",
   "language": "python",
   "name": "python3"
  },
  "language_info": {
   "codemirror_mode": {
    "name": "ipython",
    "version": 3
   },
   "file_extension": ".py",
   "mimetype": "text/x-python",
   "name": "python",
   "nbconvert_exporter": "python",
   "pygments_lexer": "ipython3",
   "version": "3.7.5"
  }
 },
 "nbformat": 4,
 "nbformat_minor": 4
}
